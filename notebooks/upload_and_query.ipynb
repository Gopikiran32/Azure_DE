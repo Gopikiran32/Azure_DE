
{
 "cells": [
  {
   "cell_type": "code",
   "execution_count": null,
   "id": "upload-csv",
   "metadata": {},
   "outputs": [],
   "source": [
    "from azure.storage.blob import BlobServiceClient
",
    "import pandas as pd
",
    "
",
    "# Upload CSV to Blob
",
    "conn_str = "<your_connection_string>"
",
    "blob_service_client = BlobServiceClient.from_connection_string(conn_str)
",
    "blob_client = blob_service_client.get_blob_client(container="raw-data", blob="sales.csv")
",
    "
",
    "with open("../sample_data/sales.csv", "rb") as data:
",
    "    blob_client.upload_blob(data, overwrite=True)"
   ]
  },
  {
   "cell_type": "code",
   "execution_count": null,
   "id": "query-sql",
   "metadata": {},
   "outputs": [],
   "source": [
    "import pyodbc
",
    "
",
    "server = 'sqlserveretl2025.database.windows.net'
",
    "database = 'salesdb'
",
    "username = 'sqladmin'
",
    "password = 'StrongPassword123!'
",
    "driver= '{ODBC Driver 17 for SQL Server}'
",
    "
",
    "conn = pyodbc.connect(f'DRIVER={driver};SERVER={server};PORT=1433;DATABASE={database};UID={username};PWD={password}')
",
    "df = pd.read_sql("SELECT TOP 10 * FROM sales_table", conn)
",
    "df.head()"
   ]
  }
 ],
 "metadata": {
  "kernelspec": {
   "display_name": "Python 3",
   "language": "python",
   "name": "python3"
  },
  "language_info": {
   "name": "python",
   "version": ""
  }
 },
 "nbformat": 4,
 "nbformat_minor": 5
}
