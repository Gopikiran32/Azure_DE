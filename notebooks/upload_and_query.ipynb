{
 "cells": [
  {
   "cell_type": "code",
   "execution_count": null,
   "id": "83fb970f",
   "metadata": {},
   "outputs": [],
   "source": [
    "\n",
    "from azure.storage.blob import BlobServiceClient\n",
    "import pandas as pd\n",
    "\n",
    "# Upload CSV to Blob\n",
    "conn_str = \"<your_connection_string>\"\n",
    "blob_service_client = BlobServiceClient.from_connection_string(conn_str)\n",
    "blob_client = blob_service_client.get_blob_client(container=\"raw-data\", blob=\"sales.csv\")\n",
    "\n",
    "with open(\"../sample_data/sales.csv\", \"rb\") as data:\n",
    "    blob_client.upload_blob(data, overwrite=True)\n"
   ]
  },
  {
   "cell_type": "code",
   "execution_count": null,
   "id": "9f1c36f9",
   "metadata": {},
   "outputs": [],
   "source": [
    "\n",
    "import pyodbc\n",
    "\n",
    "server = 'sqlserveretl2025.database.windows.net'\n",
    "database = 'salesdb'\n",
    "username = 'sqladmin'\n",
    "password = 'StrongPassword123!'\n",
    "driver= '{ODBC Driver 17 for SQL Server}'\n",
    "\n",
    "conn = pyodbc.connect(f'DRIVER={driver};SERVER={server};PORT=1433;DATABASE={database};UID={username};PWD={password}')\n",
    "df = pd.read_sql(\"SELECT TOP 10 * FROM sales_table\", conn)\n",
    "df.head()\n"
   ]
  }
 ],
 "metadata": {},
 "nbformat": 4,
 "nbformat_minor": 5
}
